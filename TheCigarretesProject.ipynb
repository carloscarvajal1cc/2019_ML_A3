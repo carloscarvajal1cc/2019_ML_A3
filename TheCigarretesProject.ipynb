{
  "nbformat": 4,
  "nbformat_minor": 0,
  "metadata": {
    "colab": {
      "name": "TheCigarretesProject.ipynb",
      "provenance": [],
      "include_colab_link": true
    },
    "kernelspec": {
      "name": "python3",
      "display_name": "Python 3"
    }
  },
  "cells": [
    {
      "cell_type": "markdown",
      "metadata": {
        "id": "view-in-github",
        "colab_type": "text"
      },
      "source": [
        "<a href=\"https://colab.research.google.com/github/carloscarvajal1cc/2019_ML_A3/blob/master/TheCigarretesProject.ipynb\" target=\"_parent\"><img src=\"https://colab.research.google.com/assets/colab-badge.svg\" alt=\"Open In Colab\"/></a>"
      ]
    },
    {
      "cell_type": "markdown",
      "metadata": {
        "id": "TLksJ2WgrJ1L",
        "colab_type": "text"
      },
      "source": [
        "# Discouraging consumption of cigarettes through generation of face images. A proposal to the Australian Government."
      ]
    },
    {
      "cell_type": "markdown",
      "metadata": {
        "id": "IEwAVLNZq-UE",
        "colab_type": "text"
      },
      "source": [
        "<br>32513 Machine Learning Spring 2019\n",
        "<br>By Carlos Mario Carvajal Moreno. Student ID: 13144148\n",
        "<br>[link text](https://github.com/carloscarvajal1cc/UTS_MachineLearning_Assigment2/blob/master/Assigment2_MachineLearning.ipynb)\n",
        "<br> Or\n",
        "<br> https://github.com/carloscarvajal1cc/UTS_MachineLearning_Assigment2/blob/master/Assigment2_MachineLearning.ipynb"
      ]
    },
    {
      "cell_type": "markdown",
      "metadata": {
        "id": "8l0KnNAIq-L_",
        "colab_type": "text"
      },
      "source": [
        "## I. Aims\n",
        "\n"
      ]
    },
    {
      "cell_type": "markdown",
      "metadata": {
        "id": "ldYdFShqqZ2d",
        "colab_type": "text"
      },
      "source": [
        ""
      ]
    }
  ]
}