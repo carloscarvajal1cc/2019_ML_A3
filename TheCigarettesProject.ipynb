{
  "nbformat": 4,
  "nbformat_minor": 0,
  "metadata": {
    "colab": {
      "name": "TheCigarretesProject.ipynb",
      "provenance": [],
      "collapsed_sections": [],
      "include_colab_link": true
    },
    "kernelspec": {
      "name": "python3",
      "display_name": "Python 3"
    }
  },
  "cells": [
    {
      "cell_type": "markdown",
      "metadata": {
        "id": "view-in-github",
        "colab_type": "text"
      },
      "source": [
        "<a href=\"https://colab.research.google.com/github/carloscarvajal1cc/2019_ML_A3/blob/Carlos/TheCigarretesProject.ipynb\" target=\"_parent\"><img src=\"https://colab.research.google.com/assets/colab-badge.svg\" alt=\"Open In Colab\"/></a>"
      ]
    },
    {
      "cell_type": "markdown",
      "metadata": {
        "id": "TLksJ2WgrJ1L",
        "colab_type": "text"
      },
      "source": [
        "# Discouraging consumption of cigarettes through the generation of face images. A proposal to the Australian Government."
      ]
    },
    {
      "cell_type": "markdown",
      "metadata": {
        "id": "IEwAVLNZq-UE",
        "colab_type": "text"
      },
      "source": [
        "<br>32513 Machine Learning Spring 2019\n",
        "<br>By Carlos Mario Carvajal Moreno. Student ID: 13144148\n",
        "<br>[link text](https://github.com/carloscarvajal1cc/UTS_MachineLearning_Assigment2/blob/master/Assigment2_MachineLearning.ipynb)\n",
        "<br> Or\n",
        "<br> https://github.com/carloscarvajal1cc/UTS_MachineLearning_Assigment2/blob/master/Assigment2_MachineLearning.ipynb"
      ]
    },
    {
      "cell_type": "markdown",
      "metadata": {
        "id": "Bf289hev08Ps",
        "colab_type": "text"
      },
      "source": [
        ""
      ]
    },
    {
      "cell_type": "markdown",
      "metadata": {
        "id": "8l0KnNAIq-L_",
        "colab_type": "text"
      },
      "source": [
        "## I. Aims\n",
        "\n"
      ]
    },
    {
      "cell_type": "markdown",
      "metadata": {
        "id": "ldYdFShqqZ2d",
        "colab_type": "text"
      },
      "source": [
        "<p align=\"justify\">The following project aims to develop an Artificial Intelligence model that is able to generate images of people’s faces in a year time, by adding the effects, of smoking cigarettes, on the skin and on the general appearance of the human face. \n",
        "\n",
        "<br><p align=\"justify\">The aim of the project is broken down into five objectives:\n",
        "\n",
        "><p align=\"justify\">i)\tCollect 5,000 face pictures of people from different cities in Australia, with ages between 18 and 39 years old (Millennials and Centennials), with different smoke habits (including new starters and non-smokers), From January 1st ,2020 to June 1st, 2020. \n",
        "  \n",
        "><p align=\"justify\">ii)\tConduct a survey simultaneously with the picture collection, to record smoking habits, for images classification purposes. \n",
        "  \n",
        "><p align=\"justify\">iii)\tConstruct different models from different Generative Adversarial Networks (GAN) approaches, such as IcGAN,  CycleGANs, IPCGANS. These approaches constitute a recently developed machine learning algorithms that utilize a generator, in charge of creating new instances of data, in this case new face images, and a discriminator that makes an evaluation of the authenticity of the generated images. \n",
        "  \n",
        "><p align=\"justify\">iv)\tEvaluate the different approaches based on the quality of images they produce and deploy the developed approach into a software application.\n",
        "  \n",
        "><p align=\"justify\">v)\tPresent the constructed model for the creation of marketing campaign purposes that discourage the consumption of cigarettes.\n",
        "  \n"
      ]
    },
    {
      "cell_type": "markdown",
      "metadata": {
        "id": "whQjuyOU0UyO",
        "colab_type": "text"
      },
      "source": [
        "## II. Background"
      ]
    },
    {
      "cell_type": "markdown",
      "metadata": {
        "id": "9H0hyACx1XkY",
        "colab_type": "text"
      },
      "source": [
        "<p align=\"justify\">Smoking causes the loss of many Australian lives every year, on top of millions of dollars expend on bush fires caused by cigarettes. Therefore, it represents a problem that the Australian Government needs to address. This proposal presents a solution that will discourage the consumption of cigarettes, by developing an approach based on the artificial intelligence model Generative Adversarial Network Gan, that will target young generations. In the last few years, many approaches have been developed with the purpose of incorporating age related features on pictures of people’s faces; different approaches such as the ones proposed by Pantraki, Kotropoulos & Lanitis (2019) or by Jia, Song & Zhang (2018) have been developed. These approaches have been able to generate realistic pictures of people, preserving their identity and simultaneously adding to them aging features onto their faces. Thus, face images that shows the way people would look in an older age have been achieved through the generative algorithm. This represents a data analytics and research opportunity for stakeholders interested in addressing the cigarette smoking problem in young generations, because the approach proposed is the adaptation of these researches on smoking-looks related features. Hence the aim is to capture and display those effects of cigarette consumption on the skin and physical appearance instead of aging. \n",
        "\n",
        "<br><p align=\"justify\"> The smoking problem in young generations has not been addressed by machine learning algorithms yet, but instead it has been confronted by the usage of marketing campaigns and high taxes. These approaches have led to generate a reduction of smoking rates in many countries, as stated in  'Smoking; Graphic warning labels on cigarette packages reduce smoking rates' (2013), and Australia has been one of the countries that have adopted these strategies, with efforts made by the government to reduce death rates and the cost to the health system. On the other hand, in the last 3 years many models have been developed to achieve the generation of images of people’s look in elder ages, and these same approaches can be adapted for such purpose, based on the hypothesis that observing the effects of cigarette smoking directly on ourselves and appearance have a much greater impact than on third parties, such as the existing warning labels on packages, or cigarette discouraging publicity on billboards and adds.\n",
        "\n",
        "<br><p align=\"justify\">The researchers Pantraki, Kotropoulos & Lanitis (2019) developed an algorithm that was able to efficiently display the effects of intense and subtle aging features on images, by using the Adversarial Generative Networks algorithm in conjunction to variational Autoencoders, that  build the distribution of the data, as explained by Xu et al. (2017). With the use of these algorithms, the authors were able to preserve the facial feature of specific people in images and reconstruct the same person in several age periods. Moreover, Jia, Song & Zhang (2018) developed an approach that performs the optimization process made by GAN to keep the main features of a face, including pose, hairstyle and background of the input picture (this to minimize the computational cost and achieve face identity), by minimizing the reconstructing loss and introducing a parameter that helps optimizing those vectors that explain the obvious features such as face deformation, hair changes and texture features such as hair color and wrinkles. In addition, Thengane et al. (2018) proposed another relevant approach, that can be used for this data analytics project, in which they introduce a Cycle Face Aging Generative Adversarial Network and a CycleConsistent Generative Adversarial Network, to equally preserve the face identity with age variations while mapping the input picture to different targeted age-groups. They divided faces into age-groups and created two mapping functions to achieve the translation of images into the different domains back and forward, while preserving identity. On the other hand, Wang et al. (2019) also based their approach on CycleGAN to reconstruct age progression,  and also dealt  with efficiency by embracing a deeper Resnet block, which is a method developed in 2015 to improve the performance of a Network, given an architecture, by skipping or stacking layers that are not relevant. \n",
        "\n",
        "\n",
        "<br><p align=\"justify\">All these approaches can be adapted to capture cigarette-smoking related features on the face skin and face appearance, instead of age-related features by preserving the age identity. On one hand, the GAN and variational autoencoder approach by Pantraki, Kotropoulos & Lanitis (2019) is proposed to be adapted to encode the smoke related features and decode them for the generation of an image, while keeping the main facial features to preserve identity. Secondly, the approach by Jia, Song & Zhang (2018) can be adapted by applying the same optimization process that focuses on obvious features and texture features. Thus, wrinkles, skin marks, can be encoded and used for reconstruction as texture features, while obvious features such as deformation of the face or eyes outline. On the other hand, the approaches by Thengane et al. (2018) and Wang et al. (2019), are highly relevant for approach adaptation, because of the usage of Cycle GAN for age mapping and Resnet block for performance in smoking features mapping. As many of these works have strived for the maintenance of face identity, they represent high relevancy on this project because, for deployment and impact on younger generations, it is necessary to preserve identity. Hence, the approach proposed in this project intends to incorporate and adapt these models; but, instead of generating new images by adding age related features to the face, it proposes the addition of smoking related changes on the skin and general appearance of the face, while maintaining the face identity of an input image. \n"
      ]
    },
    {
      "cell_type": "markdown",
      "metadata": {
        "id": "ChvjlClGz7Dw",
        "colab_type": "text"
      },
      "source": [
        "## III. Research project"
      ]
    },
    {
      "cell_type": "markdown",
      "metadata": {
        "id": "kowzS9WS0Ekb",
        "colab_type": "text"
      },
      "source": [
        "### III.I Significance of the project."
      ]
    },
    {
      "cell_type": "markdown",
      "metadata": {
        "id": "4YwvWejs0LjA",
        "colab_type": "text"
      },
      "source": [
        "<br><p align=\"justify\">Every year, around 19,000 Australians dye from smoking related health issues according to  Australia's health 2018 (2018). Additionally, the cost of health-related problems, on the Australian healthcare system, generated by the consumption of cigarettes has been estimated to be around  $$320 million dollars a year, as stated by Poulsen (2018). Moreover, Heber (2014)  claimed that the control of bushfires due to smoking cigarettes costs $150 millions to Australians every year, which also implies an environmental issue and social issue. It is important that the government addresses this issue by discouraging the consumption of cigarettes to not only prevent health related problem and the loss of Australian lives but also protect the environment and ecosystems from bushfires.   \n",
        "\n",
        "<br><p align=\"justify\"> As this is a social and environmental problem that affects many people and ecosystem, the best way to address it is to discourage the consumption of tobacco in younger generations, and one way to do so is by reinforcing the warning labels in cigarette packages, by using the power of Artificial Intelligence and social media. This project presents a highly significant approach by generating impact on younger generations because it proposes the development of a model that reconstruct the face image of people and adds smoking related features in a very realistic way. Therefore, people between 18 and 39 years old can observe the appearance of their faces in the future if they continue smoking by different intensities. In addition, it is believed that this approach will cause the greatest impact seen so far on tobacco consumers, because as it was stated in the article  'Smoking; Graphic warning labels on cigarette packages reduce smoking rates' (2013), images can have a great impact on consumption, such as the ones already displayed as labels and on billboards; but this time, the image will not come from a third party, but from the actual smoker, thanks to the power of machine learning and artificial intelligence. \n"
      ]
    },
    {
      "cell_type": "markdown",
      "metadata": {
        "id": "X27iElPLJhWt",
        "colab_type": "text"
      },
      "source": [
        "### III.II How is this project innovating"
      ]
    },
    {
      "cell_type": "markdown",
      "metadata": {
        "id": "84B2t1bwJuZA",
        "colab_type": "text"
      },
      "source": [
        "<p align=\"justify\">The proposed project presents an innovating strategy that has not been developed or implemented before on large scales and addresses the cigarette consumption issue, in young generations, by capturing their attention with the use of technology. It also represents a new way to discourage the tobacco consumption, that together with the existing strategies such as the warning labels on cigarette packages and marketing campaigns can bring down the smoking rates to the lowest levels seen in the history of tobacco production and commercialization. \n",
        "\n",
        "<br><p align=\"justify\">Many policies have been implemented so far in developed countries to discourage the consumption of tobacco with great success, however in Australia, there has been a slowdown of the dropping rate in teenagers in the last few years, according to Greenhalgh & Winstanley (2019). This approach intends to accelerate the dropping rate in consumption of cigarettes in teenagers by employ efficient methods such as social media to deploy the AI models and let people see the effect of tobacco consumption on themselves. As there is an increasing attention paid to physical appearance in younger generations, the hypothesis of an algorithm, capable of showing the effects of smoking on the personal image, that causes great impact on the consumption process has been proposed. \n",
        "\n",
        "<br><p align=\"justify\">Secondly, so far, most of the face reconstruction models based on Generative Adversarial Network models have focused on the generation of faces in accordance with age groups. However, none of them has implemented features such as smoking effects on the skin and general appearance of the face. Additionally, all strategies previously mentioned have always used third party pictures, either developed by a software or taken from people suffering the effects of smoking, such as people with lung cancer or terminally ill pictures. On the other hand, this data analytics project intends to develop an approach in which  any person in Australia, or the world, can input their own picture to the AI model and this will reconstruct the same picture keeping the face identity, and add the smoke effects on the skin and general appearance. \n"
      ]
    },
    {
      "cell_type": "markdown",
      "metadata": {
        "id": "S9cIYaDnS7uR",
        "colab_type": "text"
      },
      "source": [
        "### III.III How is this project going to be developed?"
      ]
    },
    {
      "cell_type": "markdown",
      "metadata": {
        "id": "hB9Fj7rCTMye",
        "colab_type": "text"
      },
      "source": [
        "### III.IV Propposed schedule and activities"
      ]
    },
    {
      "cell_type": "markdown",
      "metadata": {
        "id": "rUUzzf9WTWkI",
        "colab_type": "text"
      },
      "source": [
        "### III.V Expected Outcome"
      ]
    },
    {
      "cell_type": "markdown",
      "metadata": {
        "id": "gH5F6EUwTe4L",
        "colab_type": "text"
      },
      "source": [
        "## IV. Budget"
      ]
    },
    {
      "cell_type": "markdown",
      "metadata": {
        "id": "jo0yIYjkTiTz",
        "colab_type": "text"
      },
      "source": [
        "## V. Personnel required.\n",
        "\n"
      ]
    },
    {
      "cell_type": "markdown",
      "metadata": {
        "id": "bCV6dTVfTug-",
        "colab_type": "text"
      },
      "source": [
        "## VI. Video explenation of the project"
      ]
    },
    {
      "cell_type": "markdown",
      "metadata": {
        "id": "FlM-tBlkTzsB",
        "colab_type": "text"
      },
      "source": [
        "## VII. References"
      ]
    }
  ]
}
