{
  "nbformat": 4,
  "nbformat_minor": 0,
  "metadata": {
    "colab": {
      "name": "TheCigarettesProject.ipynb",
      "provenance": [],
      "collapsed_sections": [],
      "toc_visible": true,
      "include_colab_link": true
    },
    "kernelspec": {
      "name": "python3",
      "display_name": "Python 3"
    }
  },
  "cells": [
    {
      "cell_type": "markdown",
      "metadata": {
        "id": "view-in-github",
        "colab_type": "text"
      },
      "source": [
        "<a href=\"https://colab.research.google.com/github/carloscarvajal1cc/2019_ML_A3/blob/carlos/TheCigarettesProject.ipynb\" target=\"_parent\"><img src=\"https://colab.research.google.com/assets/colab-badge.svg\" alt=\"Open In Colab\"/></a>"
      ]
    },
    {
      "cell_type": "markdown",
      "metadata": {
        "id": "TLksJ2WgrJ1L",
        "colab_type": "text"
      },
      "source": [
        "# Discouraging consumption of cigarettes through the generation of face images. A proposal to the Australian Government."
      ]
    },
    {
      "cell_type": "markdown",
      "metadata": {
        "id": "IEwAVLNZq-UE",
        "colab_type": "text"
      },
      "source": [
        "<br>32513 Machine Learning Spring 2019\n",
        "<br>By Carlos Mario Carvajal Moreno. Student ID: 13144148\n",
        "<br>[link text](https://github.com/carloscarvajal1cc/2019_ML_A3/blob/master/TheCigarettesProject.ipynb)\n",
        "<br> Or\n",
        "<br> https://github.com/carloscarvajal1cc/2019_ML_A3/blob/master/TheCigarettesProject.ipynb"
      ]
    },
    {
      "cell_type": "markdown",
      "metadata": {
        "id": "Bf289hev08Ps",
        "colab_type": "text"
      },
      "source": [
        ""
      ]
    },
    {
      "cell_type": "markdown",
      "metadata": {
        "id": "8l0KnNAIq-L_",
        "colab_type": "text"
      },
      "source": [
        "## I. Aims\n",
        "\n"
      ]
    },
    {
      "cell_type": "markdown",
      "metadata": {
        "id": "ldYdFShqqZ2d",
        "colab_type": "text"
      },
      "source": [
        "<p align=\"justify\">The following project aims to develop an Artificial Intelligence model that is able to generate images of people’s faces in a year time, by adding the effects, of smoking cigarettes, on the skin and on the general appearance of the human face. \n",
        "\n",
        "<br><p align=\"justify\">The aim of the project is broken down into five objectives:\n",
        "\n",
        "><p align=\"justify\">i)\tCollect 5,000 face pictures of people from different cities in Australia, with ages between 18 and 39 years old (Millennials and Centennials), with different smoke habits (including new starters and non-smokers), From January 1st ,2020 to June 1st, 2020. \n",
        "  \n",
        "><p align=\"justify\">ii)\tConduct a survey simultaneously with the picture collection, to record smoking habits, for images classification purposes. \n",
        "  \n",
        "><p align=\"justify\">iii)\tConstruct different models from different Generative Adversarial Networks (GAN) approaches, such as IcGAN,  CycleGANs, IPCGANS. These approaches constitute a recently developed machine learning algorithms that utilize a generator, in charge of creating new instances of data, in this case new face images, and a discriminator that makes an evaluation of the authenticity of the generated images. \n",
        "  \n",
        "><p align=\"justify\">iv)\tEvaluate the different approaches based on the quality of images they produce and deploy the developed approach into a software application.\n",
        "  \n",
        "><p align=\"justify\">v)\tPresent the constructed model for the creation of marketing campaign purposes that discourage the consumption of cigarettes.\n",
        "  \n"
      ]
    },
    {
      "cell_type": "markdown",
      "metadata": {
        "id": "whQjuyOU0UyO",
        "colab_type": "text"
      },
      "source": [
        "## II. Background"
      ]
    },
    {
      "cell_type": "markdown",
      "metadata": {
        "id": "9H0hyACx1XkY",
        "colab_type": "text"
      },
      "source": [
        "<p align=\"justify\">Smoking causes the loss of many Australian lives every year, on top of millions of dollars expend on bush fires caused by cigarettes. Therefore, it represents a problem that the Australian Government needs to address. This proposal presents a solution that will discourage the consumption of cigarettes, by developing an approach based on the artificial intelligence model Generative Adversarial Network Gan, that will target young generations. In the last few years, many approaches have been developed with the purpose of incorporating age related features on pictures of people’s faces; different approaches such as the ones proposed by Pantraki, Kotropoulos & Lanitis (2019) or by Jia, Song & Zhang (2018) have been developed. These approaches have been able to generate realistic pictures of people, preserving their identity and simultaneously adding to them aging features onto their faces. Thus, face images that shows the way people would look in an older age have been achieved through the generative algorithm. This represents a data analytics and research opportunity for stakeholders interested in addressing the cigarette smoking problem in young generations, because the approach proposed is the adaptation of these researches on smoking-looks related features. Hence the aim is to capture and display those effects of cigarette consumption on the skin and physical appearance instead of aging. \n",
        "\n",
        "<br><p align=\"justify\"> The smoking problem in young generations has not been addressed by machine learning algorithms yet, but instead it has been confronted by the usage of marketing campaigns and high taxes. These approaches have led to generate a reduction of smoking rates in many countries, as stated in  'Smoking; Graphic warning labels on cigarette packages reduce smoking rates' (2013), and Australia has been one of the countries that have adopted these strategies, with efforts made by the government to reduce death rates and the cost to the health system. On the other hand, in the last 3 years many models have been developed to achieve the generation of images of people’s look in elder ages, and these same approaches can be adapted for such purpose, based on the hypothesis that observing the effects of cigarette smoking directly on ourselves and appearance have a much greater impact than on third parties, such as the existing warning labels on packages, or cigarette discouraging publicity on billboards and adds.\n",
        "\n",
        "<br><p align=\"justify\">The researchers Pantraki, Kotropoulos & Lanitis (2019) developed an algorithm that was able to efficiently display the effects of intense and subtle aging features on images, by using the Adversarial Generative Networks algorithm in conjunction to variational Autoencoders, that  build the distribution of the data, as explained by Xu et al. (2017). With the use of these algorithms, the authors were able to preserve the facial feature of specific people in images and reconstruct the same person in several age periods. Moreover, Jia, Song & Zhang (2018) developed an approach that performs the optimization process made by GAN to keep the main features of a face, including pose, hairstyle and background of the input picture (this to minimize the computational cost and achieve face identity), by minimizing the reconstructing loss and introducing a parameter that helps optimizing those vectors that explain the obvious features such as face deformation, hair changes and texture features such as hair color and wrinkles. In addition, Thengane et al. (2018) proposed another relevant approach, that can be used for this data analytics project, in which they introduce a Cycle Face Aging Generative Adversarial Network and a CycleConsistent Generative Adversarial Network, to equally preserve the face identity with age variations while mapping the input picture to different targeted age-groups. They divided faces into age-groups and created two mapping functions to achieve the translation of images into the different domains back and forward, while preserving identity. On the other hand, Wang et al. (2019) also based their approach on CycleGAN to reconstruct age progression,  and also dealt  with efficiency by embracing a deeper Resnet block, which is a method developed in 2015 to improve the performance of a Network, given an architecture, by skipping or stacking layers that are not relevant. \n",
        "\n",
        "\n",
        "<br><p align=\"justify\">All these approaches can be adapted to capture cigarette-smoking related features on the face skin and face appearance, instead of age-related features by preserving the age identity. On one hand, the GAN and variational autoencoder approach by Pantraki, Kotropoulos & Lanitis (2019) is proposed to be adapted to encode the smoke related features and decode them for the generation of an image, while keeping the main facial features to preserve identity. Secondly, the approach by Jia, Song & Zhang (2018) can be adapted by applying the same optimization process that focuses on obvious features and texture features. Thus, wrinkles, skin marks, can be encoded and used for reconstruction as texture features, while obvious features such as deformation of the face or eyes outline. On the other hand, the approaches by Thengane et al. (2018) and Wang et al. (2019), are highly relevant for approach adaptation, because of the usage of Cycle GAN for age mapping and Resnet block for performance in smoking features mapping. As many of these works have strived for the maintenance of face identity, they represent high relevancy on this project because, for deployment and impact on younger generations, it is necessary to preserve identity. Hence, the approach proposed in this project intends to incorporate and adapt these models; but, instead of generating new images by adding age related features to the face, it proposes the addition of smoking related changes on the skin and general appearance of the face, while maintaining the face identity of an input image. \n"
      ]
    },
    {
      "cell_type": "markdown",
      "metadata": {
        "id": "ChvjlClGz7Dw",
        "colab_type": "text"
      },
      "source": [
        "## III. Research project"
      ]
    },
    {
      "cell_type": "markdown",
      "metadata": {
        "id": "kowzS9WS0Ekb",
        "colab_type": "text"
      },
      "source": [
        "### III.I Significance of the project."
      ]
    },
    {
      "cell_type": "markdown",
      "metadata": {
        "id": "4YwvWejs0LjA",
        "colab_type": "text"
      },
      "source": [
        "<br><p align=\"justify\">Every year, around 19,000 Australians dye from smoking related health issues according to  Australia's health 2018 (2018). Additionally, the cost of health-related problems, on the Australian healthcare system, generated by the consumption of cigarettes has been estimated to be around  $$320 million dollars a year, as stated by Poulsen (2018). Moreover, Heber (2014)  claimed that the control of bushfires due to smoking cigarettes costs $150 millions to Australians every year, which also implies an environmental issue and social issue. It is important that the government addresses this issue by discouraging the consumption of cigarettes to not only prevent health related problem and the loss of Australian lives but also protect the environment and ecosystems from bushfires.   \n",
        "\n",
        "<br><p align=\"justify\"> As this is a social and environmental problem that affects many people and ecosystem, the best way to address it is to discourage the consumption of tobacco in younger generations, and one way to do so is by reinforcing the warning labels in cigarette packages, by using the power of Artificial Intelligence and social media. This project presents a highly significant approach by generating impact on younger generations because it proposes the development of a model that reconstruct the face image of people and adds smoking related features in a very realistic way. Therefore, people between 18 and 39 years old can observe the appearance of their faces in the future if they continue smoking by different intensities. In addition, it is believed that this approach will cause the greatest impact seen so far on tobacco consumers, because as it was stated in the article  'Smoking; Graphic warning labels on cigarette packages reduce smoking rates' (2013), images can have a great impact on consumption, such as the ones already displayed as labels and on billboards; but this time, the image will not come from a third party, but from the actual smoker, thanks to the power of machine learning and artificial intelligence. \n"
      ]
    },
    {
      "cell_type": "markdown",
      "metadata": {
        "id": "X27iElPLJhWt",
        "colab_type": "text"
      },
      "source": [
        "### III.II How is this project innovating"
      ]
    },
    {
      "cell_type": "markdown",
      "metadata": {
        "id": "84B2t1bwJuZA",
        "colab_type": "text"
      },
      "source": [
        "<p align=\"justify\">The proposed project presents an innovating strategy that has not been developed or implemented before on large scales and addresses the cigarette consumption issue, in young generations, by capturing their attention with the use of technology. It also represents a new way to discourage the tobacco consumption, that together with the existing strategies such as the warning labels on cigarette packages and marketing campaigns can bring down the smoking rates to the lowest levels seen in the history of tobacco production and commercialization. \n",
        "\n",
        "<br><p align=\"justify\">Many policies have been implemented so far in developed countries to discourage the consumption of tobacco with great success, however in Australia, there has been a slowdown of the dropping rate in teenagers in the last few years, according to Greenhalgh & Winstanley (2019). This approach intends to accelerate the dropping rate in consumption of cigarettes in teenagers by employ efficient methods such as social media to deploy the AI models and let people see the effect of tobacco consumption on themselves. As there is an increasing attention paid to physical appearance in younger generations, the hypothesis of an algorithm, capable of showing the effects of smoking on the personal image, that causes great impact on the consumption process has been proposed. \n",
        "\n",
        "<br><p align=\"justify\">Secondly, so far, most of the face reconstruction models based on Generative Adversarial Network models have focused on the generation of faces in accordance with age groups. However, none of them has implemented features such as smoking effects on the skin and general appearance of the face. Additionally, all strategies previously mentioned have always used third party pictures, either developed by a software or taken from people suffering the effects of smoking, such as people with lung cancer or terminally ill pictures. On the other hand, this data analytics project intends to develop an approach in which  any person in Australia, or the world, can input their own picture to the AI model and this will reconstruct the same picture keeping the face identity, and add the smoke effects on the skin and general appearance. \n"
      ]
    },
    {
      "cell_type": "markdown",
      "metadata": {
        "id": "S9cIYaDnS7uR",
        "colab_type": "text"
      },
      "source": [
        "### III.III Methodology"
      ]
    },
    {
      "cell_type": "markdown",
      "metadata": {
        "id": "Oep9-SV3iPi9",
        "colab_type": "text"
      },
      "source": [
        "<p align=\"justify\">To achieve the aims of this project and build a model capable of reconstructing picture of faces, with the addition of the effects generated by smoking on the skin and appearance and while keeping the face identity, is necessary to perform the following tasks:\n",
        "\n",
        "><br><p align=\"justify\">1)\tConstruction of the training set: This is the most important task of the project. To build the training set is necessary to collect people’s face pictures around Australia in conjunction with a survey that will help the classification of the pictures for training purposes. It is suggested to create age groups such as 18 to 25, 26 to 32, 33 to 39 so images can be classified under these groups when information is collected with the survey. Simultaneously, the pictures can also be classified into four smoking-habit groups by collecting information in the survey, such as non-smoker, occasional smoker (less than 4 times a month), regular smoker (between 2 and 3 times a week), often smoker (between 4 and 7 times a week) and heavy smoker (more than 1 cigarette a day). It is recommended to get a representative number of people for each one of the smoking and age groups to be able to train the GAN models with sufficient images allowing the extraction of smoking related features. For this reason, the target size of the training set has been to 5,000 people. \n",
        "  \n",
        "><br><p align=\"justify\">2)\tOnce the pictures have been collected and the classification has been made based on the survey information, the next step is to build different Generative Adversarial Networks; this, based on the approaches proposed by the authors previously cited,  addressing the encoding and decoding of aging related features, but with the adaptation to encode the effect of smoking on skin and appearance. The construction of the following models will be performed in Python, and the python libraries Pytorch, Numpy, Pyplot, Matplotlib and others:\n",
        ">><p align=\"justify\">a.\tA GAN model that utilizes autoencoders, along with the representation of the four classes or smoking-habits groups previously described, by the creation of four VAE-GAN networks from the adaptation of  Pantraki, Kotropoulos & Lanitis (2019).\n",
        ">><p align=\"justify\">b.\tA GAN model that uses the following two encoders: a vector encoder, that maps the input face, that is generated by the generator part of the model, to a vector; A smoking features attribute encoder; a Generator and a Discriminator.\n",
        ">><p align=\"justify\">c.\tA Cycle GAN model that contains four mapping function, according to the previously described smoking-habits groups. This means the creation of four generators that work with given unpair samples, creating what the authors Thengane et al. (2018) and Wang et al. (2019) have described as a cycle. And that also contains, the adoption of residual blocks in the generator by using Resnet, as stated by Wang et al. (2019).\n",
        "\n",
        "><br><p align=\"justify\">3)\tTrain the models, generate pictures, and measure respond time and quality. On the other hand, use the ages to map age related features onto the pictures as well to create the future looks, with the cited researches.\n",
        "  \n",
        "><br><p align=\"justify\">4)\tAs this project intends to generate the most realistic pictures while maintaining the face identity, it is necessary to evaluate the outcome of the different models created and compared them based on the quality of the generated pictures. Therefore, the models will be assessed based on their efficiency (time it takes to reconstruct an input picture) and the quality of the output or reconstructed picture. \n",
        "  \n",
        "><br><p align=\"justify\">5)\tPerform a small survey among the team members to choose the model that best performs and generates the most realistic pictures to be deploy in a software or cloud application. \n"
      ]
    },
    {
      "cell_type": "markdown",
      "metadata": {
        "id": "hB9Fj7rCTMye",
        "colab_type": "text"
      },
      "source": [
        "### III.IV Propposed schedule and activities"
      ]
    },
    {
      "cell_type": "markdown",
      "metadata": {
        "id": "6L-9OFEw7-8M",
        "colab_type": "text"
      },
      "source": [
        "The following chronogram of activities has been proposed to achieve the construction of the discouraging strategy tool, for 2020, from when the project is accepted by the sponsors. It is highly recommended that the project sponsor approves the project in the required date to avoid delays in the execution. "
      ]
    },
    {
      "cell_type": "code",
      "metadata": {
        "id": "WMv5He6rxa8u",
        "colab_type": "code",
        "colab": {
          "base_uri": "https://localhost:8080/",
          "height": 617
        },
        "cellView": "form",
        "outputId": "d7e0b9a2-07b3-4232-81f0-86b281d2cf3c"
      },
      "source": [
        "#@title Chronogram of Activities for this project\n",
        "import plotly.figure_factory as ff\n",
        "\n",
        "df = [dict(Task=\"Presentation and approval of the project to sponsors\",\n",
        "           Start='2019-12-01', Finish='2019-12-05'),\n",
        "      dict(Task=\"Hire of personnel\",\n",
        "           Start='2019-12-06', Finish='2019-12-31'),\n",
        "      dict(Task=\"Hire and Set up equipment and communication plan\",\n",
        "           Start='2019-12-06', Finish='2019-12-31'),\n",
        "      dict(Task=\"Collection of pictures\",\n",
        "           Start='2020-01-01', Finish='2020-06-01'),\n",
        "      dict(Task=\"Conduct survey\",\n",
        "           Start='2020-01-01', Finish='2020-06-01'),\n",
        "      dict(Task=\"Build GAN model architectures\",\n",
        "           Start='2020-04-01', Finish='2020-07-01'),\n",
        "      dict(Task=\"Perform data cleaning and format all pictures\",\n",
        "           Start='2020-06-01', Finish='2020-07-01'),\n",
        "      dict(Task=\"Train models and modify parameters\",\n",
        "           Start='2020-07-01', Finish='2020-09-01'),\n",
        "      dict(Task=\"Test the models with new pictures\",\n",
        "           Start='2020-09-01', Finish='2020-09-10'),\n",
        "       dict(Task=\"Develop a cloud base application for model deployment\",\n",
        "           Start='2020-09-01', Finish='2020-11-01'),\n",
        "       dict(Task=\"Evaluate performance and output quality\",\n",
        "           Start='2020-09-10', Finish='2020-09-20'),\n",
        "       dict(Task=\"Perform final adjustment of the models\",\n",
        "           Start='2020-09-20', Finish='2020-10-01'),\n",
        "       dict(Task=\"Perform final testing of generation of pictures\",\n",
        "           Start='2020-10-01', Finish='2020-10-05'),\n",
        "       dict(Task=\"Conduct a small survey about quality perception\",\n",
        "           Start='2020-10-05', Finish='2020-10-10'),\n",
        "       dict(Task=\"Choose a model for deployment\",\n",
        "           Start='2020-10-10', Finish='2020-10-15'),\n",
        "       dict(Task=\"Integrate and deploy model into cloud application\",\n",
        "           Start='2020-10-15', Finish='2020-11-01'),\n",
        "       dict(Task=\"Test Cloud application\",\n",
        "           Start='2020-11-01', Finish='2020-11-10'),\n",
        "       dict(Task=\"Perform bug fixing\",\n",
        "           Start='2020-11-10', Finish='2020-11-20'),\n",
        "       dict(Task=\"Present application to sponsor\",\n",
        "           Start='2020-11-20', Finish='2020-11-25'),\n",
        "       dict(Task=\"Deploy solution into social media\",\n",
        "           Start='2020-12-01', Finish='2020-12-31')\n",
        "      \n",
        "     ]\n",
        "\n",
        "fig = ff.create_gantt(df, bar_width=0.4, showgrid_x=True,\n",
        "                      showgrid_y=True)\n",
        "fig.show()\n",
        "\n"
      ],
      "execution_count": 34,
      "outputs": [
        {
          "output_type": "display_data",
          "data": {
            "text/html": [
              "<html>\n",
              "<head><meta charset=\"utf-8\" /></head>\n",
              "<body>\n",
              "    <div>\n",
              "            <script src=\"https://cdnjs.cloudflare.com/ajax/libs/mathjax/2.7.5/MathJax.js?config=TeX-AMS-MML_SVG\"></script><script type=\"text/javascript\">if (window.MathJax) {MathJax.Hub.Config({SVG: {font: \"STIX-Web\"}});}</script>\n",
              "                <script type=\"text/javascript\">window.PlotlyConfig = {MathJaxConfig: 'local'};</script>\n",
              "        <script src=\"https://cdn.plot.ly/plotly-latest.min.js\"></script>    \n",
              "            <div id=\"bbe34411-5e63-4dbc-b254-a05c42ffa397\" class=\"plotly-graph-div\" style=\"height:600px; width:100%;\"></div>\n",
              "            <script type=\"text/javascript\">\n",
              "                \n",
              "                    window.PLOTLYENV=window.PLOTLYENV || {};\n",
              "                    \n",
              "                if (document.getElementById(\"bbe34411-5e63-4dbc-b254-a05c42ffa397\")) {\n",
              "                    Plotly.newPlot(\n",
              "                        'bbe34411-5e63-4dbc-b254-a05c42ffa397',\n",
              "                        [{\"fill\": \"toself\", \"fillcolor\": \"rgb(127, 127, 127)\", \"hoverinfo\": \"name\", \"legendgroup\": \"rgb(127, 127, 127)\", \"mode\": \"none\", \"name\": \"Perform bug fixing\", \"type\": \"scatter\", \"x\": [\"2020-07-01\", \"2020-09-01\", \"2020-09-01\", \"2020-07-01\", \"2020-07-01\", \"2020-11-10\", \"2020-11-20\", \"2020-11-20\", \"2020-11-10\"], \"y\": [6.6, 6.6, 7.4, 7.4, null, 16.6, 16.6, 17.4, 17.4]}, {\"fill\": \"toself\", \"fillcolor\": \"rgb(140, 86, 75)\", \"hoverinfo\": \"name\", \"legendgroup\": \"rgb(140, 86, 75)\", \"mode\": \"none\", \"name\": \"Integrate and deploy model into cloud application\", \"type\": \"scatter\", \"x\": [\"2020-04-01\", \"2020-07-01\", \"2020-07-01\", \"2020-04-01\", \"2020-04-01\", \"2020-10-15\", \"2020-11-01\", \"2020-11-01\", \"2020-10-15\"], \"y\": [4.6, 4.6, 5.4, 5.4, null, 14.6, 14.6, 15.4, 15.4]}, {\"fill\": \"toself\", \"fillcolor\": \"rgb(148, 103, 189)\", \"hoverinfo\": \"name\", \"legendgroup\": \"rgb(148, 103, 189)\", \"mode\": \"none\", \"name\": \"Choose a model for deployment\", \"type\": \"scatter\", \"x\": [\"2020-01-01\", \"2020-06-01\", \"2020-06-01\", \"2020-01-01\", \"2020-01-01\", \"2020-10-10\", \"2020-10-15\", \"2020-10-15\", \"2020-10-10\"], \"y\": [3.6, 3.6, 4.4, 4.4, null, 13.6, 13.6, 14.4, 14.4]}, {\"fill\": \"toself\", \"fillcolor\": \"rgb(188, 189, 34)\", \"hoverinfo\": \"name\", \"legendgroup\": \"rgb(188, 189, 34)\", \"mode\": \"none\", \"name\": \"Present application to sponsor\", \"type\": \"scatter\", \"x\": [\"2020-09-01\", \"2020-09-10\", \"2020-09-10\", \"2020-09-01\", \"2020-09-01\", \"2020-11-20\", \"2020-11-25\", \"2020-11-25\", \"2020-11-20\"], \"y\": [7.6, 7.6, 8.4, 8.4, null, 17.6, 17.6, 18.4, 18.4]}, {\"fill\": \"toself\", \"fillcolor\": \"rgb(214, 39, 40)\", \"hoverinfo\": \"name\", \"legendgroup\": \"rgb(214, 39, 40)\", \"mode\": \"none\", \"name\": \"Conduct a small survey about quality perception\", \"type\": \"scatter\", \"x\": [\"2020-01-01\", \"2020-06-01\", \"2020-06-01\", \"2020-01-01\", \"2020-01-01\", \"2020-10-05\", \"2020-10-10\", \"2020-10-10\", \"2020-10-05\"], \"y\": [2.6, 2.6, 3.4, 3.4, null, 12.6, 12.6, 13.4, 13.4]}, {\"fill\": \"toself\", \"fillcolor\": \"rgb(227, 119, 194)\", \"hoverinfo\": \"name\", \"legendgroup\": \"rgb(227, 119, 194)\", \"mode\": \"none\", \"name\": \"Test Cloud application\", \"type\": \"scatter\", \"x\": [\"2020-06-01\", \"2020-07-01\", \"2020-07-01\", \"2020-06-01\", \"2020-06-01\", \"2020-11-01\", \"2020-11-10\", \"2020-11-10\", \"2020-11-01\"], \"y\": [5.6, 5.6, 6.4, 6.4, null, 15.6, 15.6, 16.4, 16.4]}, {\"fill\": \"toself\", \"fillcolor\": \"rgb(23, 190, 207)\", \"hoverinfo\": \"name\", \"legendgroup\": \"rgb(23, 190, 207)\", \"mode\": \"none\", \"name\": \"Deploy solution into social media\", \"type\": \"scatter\", \"x\": [\"2020-09-01\", \"2020-11-01\", \"2020-11-01\", \"2020-09-01\", \"2020-09-01\", \"2020-12-01\", \"2020-12-31\", \"2020-12-31\", \"2020-12-01\"], \"y\": [8.6, 8.6, 9.4, 9.4, null, 18.6, 18.6, 19.4, 19.4]}, {\"fill\": \"toself\", \"fillcolor\": \"rgb(255, 127, 14)\", \"hoverinfo\": \"name\", \"legendgroup\": \"rgb(255, 127, 14)\", \"mode\": \"none\", \"name\": \"Perform final adjustment of the models\", \"type\": \"scatter\", \"x\": [\"2019-12-06\", \"2019-12-31\", \"2019-12-31\", \"2019-12-06\", \"2019-12-06\", \"2020-09-20\", \"2020-10-01\", \"2020-10-01\", \"2020-09-20\"], \"y\": [0.6, 0.6, 1.4, 1.4, null, 10.6, 10.6, 11.4, 11.4]}, {\"fill\": \"toself\", \"fillcolor\": \"rgb(31, 119, 180)\", \"hoverinfo\": \"name\", \"legendgroup\": \"rgb(31, 119, 180)\", \"mode\": \"none\", \"name\": \"Evaluate performance and output quality\", \"type\": \"scatter\", \"x\": [\"2019-12-01\", \"2019-12-05\", \"2019-12-05\", \"2019-12-01\", \"2019-12-01\", \"2020-09-10\", \"2020-09-20\", \"2020-09-20\", \"2020-09-10\"], \"y\": [-0.4, -0.4, 0.4, 0.4, null, 9.6, 9.6, 10.4, 10.4]}, {\"fill\": \"toself\", \"fillcolor\": \"rgb(44, 160, 44)\", \"hoverinfo\": \"name\", \"legendgroup\": \"rgb(44, 160, 44)\", \"mode\": \"none\", \"name\": \"Perform final testing of generation of pictures\", \"type\": \"scatter\", \"x\": [\"2019-12-06\", \"2019-12-31\", \"2019-12-31\", \"2019-12-06\", \"2019-12-06\", \"2020-10-01\", \"2020-10-05\", \"2020-10-05\", \"2020-10-01\"], \"y\": [1.6, 1.6, 2.4, 2.4, null, 11.6, 11.6, 12.4, 12.4]}, {\"legendgroup\": \"rgb(127, 127, 127)\", \"marker\": {\"color\": \"rgb(127, 127, 127)\", \"opacity\": 0, \"size\": 1}, \"mode\": \"markers\", \"name\": \"\", \"showlegend\": false, \"text\": [null, null, null, null], \"type\": \"scatter\", \"x\": [\"2020-07-01\", \"2020-09-01\", \"2020-11-10\", \"2020-11-20\"], \"y\": [7, 7, 17, 17]}, {\"legendgroup\": \"rgb(140, 86, 75)\", \"marker\": {\"color\": \"rgb(140, 86, 75)\", \"opacity\": 0, \"size\": 1}, \"mode\": \"markers\", \"name\": \"\", \"showlegend\": false, \"text\": [null, null, null, null], \"type\": \"scatter\", \"x\": [\"2020-04-01\", \"2020-07-01\", \"2020-10-15\", \"2020-11-01\"], \"y\": [5, 5, 15, 15]}, {\"legendgroup\": \"rgb(148, 103, 189)\", \"marker\": {\"color\": \"rgb(148, 103, 189)\", \"opacity\": 0, \"size\": 1}, \"mode\": \"markers\", \"name\": \"\", \"showlegend\": false, \"text\": [null, null, null, null], \"type\": \"scatter\", \"x\": [\"2020-01-01\", \"2020-06-01\", \"2020-10-10\", \"2020-10-15\"], \"y\": [4, 4, 14, 14]}, {\"legendgroup\": \"rgb(188, 189, 34)\", \"marker\": {\"color\": \"rgb(188, 189, 34)\", \"opacity\": 0, \"size\": 1}, \"mode\": \"markers\", \"name\": \"\", \"showlegend\": false, \"text\": [null, null, null, null], \"type\": \"scatter\", \"x\": [\"2020-09-01\", \"2020-09-10\", \"2020-11-20\", \"2020-11-25\"], \"y\": [8, 8, 18, 18]}, {\"legendgroup\": \"rgb(214, 39, 40)\", \"marker\": {\"color\": \"rgb(214, 39, 40)\", \"opacity\": 0, \"size\": 1}, \"mode\": \"markers\", \"name\": \"\", \"showlegend\": false, \"text\": [null, null, null, null], \"type\": \"scatter\", \"x\": [\"2020-01-01\", \"2020-06-01\", \"2020-10-05\", \"2020-10-10\"], \"y\": [3, 3, 13, 13]}, {\"legendgroup\": \"rgb(227, 119, 194)\", \"marker\": {\"color\": \"rgb(227, 119, 194)\", \"opacity\": 0, \"size\": 1}, \"mode\": \"markers\", \"name\": \"\", \"showlegend\": false, \"text\": [null, null, null, null], \"type\": \"scatter\", \"x\": [\"2020-06-01\", \"2020-07-01\", \"2020-11-01\", \"2020-11-10\"], \"y\": [6, 6, 16, 16]}, {\"legendgroup\": \"rgb(23, 190, 207)\", \"marker\": {\"color\": \"rgb(23, 190, 207)\", \"opacity\": 0, \"size\": 1}, \"mode\": \"markers\", \"name\": \"\", \"showlegend\": false, \"text\": [null, null, null, null], \"type\": \"scatter\", \"x\": [\"2020-09-01\", \"2020-11-01\", \"2020-12-01\", \"2020-12-31\"], \"y\": [9, 9, 19, 19]}, {\"legendgroup\": \"rgb(255, 127, 14)\", \"marker\": {\"color\": \"rgb(255, 127, 14)\", \"opacity\": 0, \"size\": 1}, \"mode\": \"markers\", \"name\": \"\", \"showlegend\": false, \"text\": [null, null, null, null], \"type\": \"scatter\", \"x\": [\"2019-12-06\", \"2019-12-31\", \"2020-09-20\", \"2020-10-01\"], \"y\": [1, 1, 11, 11]}, {\"legendgroup\": \"rgb(31, 119, 180)\", \"marker\": {\"color\": \"rgb(31, 119, 180)\", \"opacity\": 0, \"size\": 1}, \"mode\": \"markers\", \"name\": \"\", \"showlegend\": false, \"text\": [null, null, null, null], \"type\": \"scatter\", \"x\": [\"2019-12-01\", \"2019-12-05\", \"2020-09-10\", \"2020-09-20\"], \"y\": [0, 0, 10, 10]}, {\"legendgroup\": \"rgb(44, 160, 44)\", \"marker\": {\"color\": \"rgb(44, 160, 44)\", \"opacity\": 0, \"size\": 1}, \"mode\": \"markers\", \"name\": \"\", \"showlegend\": false, \"text\": [null, null, null, null], \"type\": \"scatter\", \"x\": [\"2019-12-06\", \"2019-12-31\", \"2020-10-01\", \"2020-10-05\"], \"y\": [2, 2, 12, 12]}],\n",
              "                        {\"height\": 600, \"hovermode\": \"closest\", \"showlegend\": false, \"template\": {\"data\": {\"bar\": [{\"error_x\": {\"color\": \"#2a3f5f\"}, \"error_y\": {\"color\": \"#2a3f5f\"}, \"marker\": {\"line\": {\"color\": \"#E5ECF6\", \"width\": 0.5}}, \"type\": \"bar\"}], \"barpolar\": [{\"marker\": {\"line\": {\"color\": \"#E5ECF6\", \"width\": 0.5}}, \"type\": \"barpolar\"}], \"carpet\": [{\"aaxis\": {\"endlinecolor\": \"#2a3f5f\", \"gridcolor\": \"white\", \"linecolor\": \"white\", \"minorgridcolor\": \"white\", \"startlinecolor\": \"#2a3f5f\"}, \"baxis\": {\"endlinecolor\": \"#2a3f5f\", \"gridcolor\": \"white\", \"linecolor\": \"white\", \"minorgridcolor\": \"white\", \"startlinecolor\": \"#2a3f5f\"}, \"type\": \"carpet\"}], \"choropleth\": [{\"colorbar\": {\"outlinewidth\": 0, \"ticks\": \"\"}, \"type\": \"choropleth\"}], \"contour\": [{\"colorbar\": {\"outlinewidth\": 0, \"ticks\": \"\"}, \"colorscale\": [[0.0, \"#0d0887\"], [0.1111111111111111, \"#46039f\"], [0.2222222222222222, \"#7201a8\"], [0.3333333333333333, \"#9c179e\"], [0.4444444444444444, \"#bd3786\"], [0.5555555555555556, \"#d8576b\"], [0.6666666666666666, \"#ed7953\"], [0.7777777777777778, \"#fb9f3a\"], [0.8888888888888888, \"#fdca26\"], [1.0, \"#f0f921\"]], \"type\": \"contour\"}], \"contourcarpet\": [{\"colorbar\": {\"outlinewidth\": 0, \"ticks\": \"\"}, \"type\": \"contourcarpet\"}], \"heatmap\": [{\"colorbar\": {\"outlinewidth\": 0, \"ticks\": \"\"}, \"colorscale\": [[0.0, \"#0d0887\"], [0.1111111111111111, \"#46039f\"], [0.2222222222222222, \"#7201a8\"], [0.3333333333333333, \"#9c179e\"], [0.4444444444444444, \"#bd3786\"], [0.5555555555555556, \"#d8576b\"], [0.6666666666666666, \"#ed7953\"], [0.7777777777777778, \"#fb9f3a\"], [0.8888888888888888, \"#fdca26\"], [1.0, \"#f0f921\"]], \"type\": \"heatmap\"}], \"heatmapgl\": [{\"colorbar\": {\"outlinewidth\": 0, \"ticks\": \"\"}, \"colorscale\": [[0.0, \"#0d0887\"], [0.1111111111111111, \"#46039f\"], [0.2222222222222222, \"#7201a8\"], [0.3333333333333333, \"#9c179e\"], [0.4444444444444444, \"#bd3786\"], [0.5555555555555556, \"#d8576b\"], [0.6666666666666666, \"#ed7953\"], [0.7777777777777778, \"#fb9f3a\"], [0.8888888888888888, \"#fdca26\"], [1.0, \"#f0f921\"]], \"type\": \"heatmapgl\"}], \"histogram\": [{\"marker\": {\"colorbar\": {\"outlinewidth\": 0, \"ticks\": \"\"}}, \"type\": \"histogram\"}], \"histogram2d\": [{\"colorbar\": {\"outlinewidth\": 0, \"ticks\": \"\"}, \"colorscale\": [[0.0, \"#0d0887\"], [0.1111111111111111, \"#46039f\"], [0.2222222222222222, \"#7201a8\"], [0.3333333333333333, \"#9c179e\"], [0.4444444444444444, \"#bd3786\"], [0.5555555555555556, \"#d8576b\"], [0.6666666666666666, \"#ed7953\"], [0.7777777777777778, \"#fb9f3a\"], [0.8888888888888888, \"#fdca26\"], [1.0, \"#f0f921\"]], \"type\": \"histogram2d\"}], \"histogram2dcontour\": [{\"colorbar\": {\"outlinewidth\": 0, \"ticks\": \"\"}, \"colorscale\": [[0.0, \"#0d0887\"], [0.1111111111111111, \"#46039f\"], [0.2222222222222222, \"#7201a8\"], [0.3333333333333333, \"#9c179e\"], [0.4444444444444444, \"#bd3786\"], [0.5555555555555556, \"#d8576b\"], [0.6666666666666666, \"#ed7953\"], [0.7777777777777778, \"#fb9f3a\"], [0.8888888888888888, \"#fdca26\"], [1.0, \"#f0f921\"]], \"type\": \"histogram2dcontour\"}], \"mesh3d\": [{\"colorbar\": {\"outlinewidth\": 0, \"ticks\": \"\"}, \"type\": \"mesh3d\"}], \"parcoords\": [{\"line\": {\"colorbar\": {\"outlinewidth\": 0, \"ticks\": \"\"}}, \"type\": \"parcoords\"}], \"scatter\": [{\"marker\": {\"colorbar\": {\"outlinewidth\": 0, \"ticks\": \"\"}}, \"type\": \"scatter\"}], \"scatter3d\": [{\"line\": {\"colorbar\": {\"outlinewidth\": 0, \"ticks\": \"\"}}, \"marker\": {\"colorbar\": {\"outlinewidth\": 0, \"ticks\": \"\"}}, \"type\": \"scatter3d\"}], \"scattercarpet\": [{\"marker\": {\"colorbar\": {\"outlinewidth\": 0, \"ticks\": \"\"}}, \"type\": \"scattercarpet\"}], \"scattergeo\": [{\"marker\": {\"colorbar\": {\"outlinewidth\": 0, \"ticks\": \"\"}}, \"type\": \"scattergeo\"}], \"scattergl\": [{\"marker\": {\"colorbar\": {\"outlinewidth\": 0, \"ticks\": \"\"}}, \"type\": \"scattergl\"}], \"scattermapbox\": [{\"marker\": {\"colorbar\": {\"outlinewidth\": 0, \"ticks\": \"\"}}, \"type\": \"scattermapbox\"}], \"scatterpolar\": [{\"marker\": {\"colorbar\": {\"outlinewidth\": 0, \"ticks\": \"\"}}, \"type\": \"scatterpolar\"}], \"scatterpolargl\": [{\"marker\": {\"colorbar\": {\"outlinewidth\": 0, \"ticks\": \"\"}}, \"type\": \"scatterpolargl\"}], \"scatterternary\": [{\"marker\": {\"colorbar\": {\"outlinewidth\": 0, \"ticks\": \"\"}}, \"type\": \"scatterternary\"}], \"surface\": [{\"colorbar\": {\"outlinewidth\": 0, \"ticks\": \"\"}, \"colorscale\": [[0.0, \"#0d0887\"], [0.1111111111111111, \"#46039f\"], [0.2222222222222222, \"#7201a8\"], [0.3333333333333333, \"#9c179e\"], [0.4444444444444444, \"#bd3786\"], [0.5555555555555556, \"#d8576b\"], [0.6666666666666666, \"#ed7953\"], [0.7777777777777778, \"#fb9f3a\"], [0.8888888888888888, \"#fdca26\"], [1.0, \"#f0f921\"]], \"type\": \"surface\"}], \"table\": [{\"cells\": {\"fill\": {\"color\": \"#EBF0F8\"}, \"line\": {\"color\": \"white\"}}, \"header\": {\"fill\": {\"color\": \"#C8D4E3\"}, \"line\": {\"color\": \"white\"}}, \"type\": \"table\"}]}, \"layout\": {\"annotationdefaults\": {\"arrowcolor\": \"#2a3f5f\", \"arrowhead\": 0, \"arrowwidth\": 1}, \"colorscale\": {\"diverging\": [[0, \"#8e0152\"], [0.1, \"#c51b7d\"], [0.2, \"#de77ae\"], [0.3, \"#f1b6da\"], [0.4, \"#fde0ef\"], [0.5, \"#f7f7f7\"], [0.6, \"#e6f5d0\"], [0.7, \"#b8e186\"], [0.8, \"#7fbc41\"], [0.9, \"#4d9221\"], [1, \"#276419\"]], \"sequential\": [[0.0, \"#0d0887\"], [0.1111111111111111, \"#46039f\"], [0.2222222222222222, \"#7201a8\"], [0.3333333333333333, \"#9c179e\"], [0.4444444444444444, \"#bd3786\"], [0.5555555555555556, \"#d8576b\"], [0.6666666666666666, \"#ed7953\"], [0.7777777777777778, \"#fb9f3a\"], [0.8888888888888888, \"#fdca26\"], [1.0, \"#f0f921\"]], \"sequentialminus\": [[0.0, \"#0d0887\"], [0.1111111111111111, \"#46039f\"], [0.2222222222222222, \"#7201a8\"], [0.3333333333333333, \"#9c179e\"], [0.4444444444444444, \"#bd3786\"], [0.5555555555555556, \"#d8576b\"], [0.6666666666666666, \"#ed7953\"], [0.7777777777777778, \"#fb9f3a\"], [0.8888888888888888, \"#fdca26\"], [1.0, \"#f0f921\"]]}, \"colorway\": [\"#636efa\", \"#EF553B\", \"#00cc96\", \"#ab63fa\", \"#FFA15A\", \"#19d3f3\", \"#FF6692\", \"#B6E880\", \"#FF97FF\", \"#FECB52\"], \"font\": {\"color\": \"#2a3f5f\"}, \"geo\": {\"bgcolor\": \"white\", \"lakecolor\": \"white\", \"landcolor\": \"#E5ECF6\", \"showlakes\": true, \"showland\": true, \"subunitcolor\": \"white\"}, \"hoverlabel\": {\"align\": \"left\"}, \"hovermode\": \"closest\", \"mapbox\": {\"style\": \"light\"}, \"paper_bgcolor\": \"white\", \"plot_bgcolor\": \"#E5ECF6\", \"polar\": {\"angularaxis\": {\"gridcolor\": \"white\", \"linecolor\": \"white\", \"ticks\": \"\"}, \"bgcolor\": \"#E5ECF6\", \"radialaxis\": {\"gridcolor\": \"white\", \"linecolor\": \"white\", \"ticks\": \"\"}}, \"scene\": {\"xaxis\": {\"backgroundcolor\": \"#E5ECF6\", \"gridcolor\": \"white\", \"gridwidth\": 2, \"linecolor\": \"white\", \"showbackground\": true, \"ticks\": \"\", \"zerolinecolor\": \"white\"}, \"yaxis\": {\"backgroundcolor\": \"#E5ECF6\", \"gridcolor\": \"white\", \"gridwidth\": 2, \"linecolor\": \"white\", \"showbackground\": true, \"ticks\": \"\", \"zerolinecolor\": \"white\"}, \"zaxis\": {\"backgroundcolor\": \"#E5ECF6\", \"gridcolor\": \"white\", \"gridwidth\": 2, \"linecolor\": \"white\", \"showbackground\": true, \"ticks\": \"\", \"zerolinecolor\": \"white\"}}, \"shapedefaults\": {\"line\": {\"color\": \"#2a3f5f\"}}, \"ternary\": {\"aaxis\": {\"gridcolor\": \"white\", \"linecolor\": \"white\", \"ticks\": \"\"}, \"baxis\": {\"gridcolor\": \"white\", \"linecolor\": \"white\", \"ticks\": \"\"}, \"bgcolor\": \"#E5ECF6\", \"caxis\": {\"gridcolor\": \"white\", \"linecolor\": \"white\", \"ticks\": \"\"}}, \"title\": {\"x\": 0.05}, \"xaxis\": {\"automargin\": true, \"gridcolor\": \"white\", \"linecolor\": \"white\", \"ticks\": \"\", \"zerolinecolor\": \"white\", \"zerolinewidth\": 2}, \"yaxis\": {\"automargin\": true, \"gridcolor\": \"white\", \"linecolor\": \"white\", \"ticks\": \"\", \"zerolinecolor\": \"white\", \"zerolinewidth\": 2}}}, \"title\": {\"text\": \"Gantt Chart\"}, \"xaxis\": {\"rangeselector\": {\"buttons\": [{\"count\": 7, \"label\": \"1w\", \"step\": \"day\", \"stepmode\": \"backward\"}, {\"count\": 1, \"label\": \"1m\", \"step\": \"month\", \"stepmode\": \"backward\"}, {\"count\": 6, \"label\": \"6m\", \"step\": \"month\", \"stepmode\": \"backward\"}, {\"count\": 1, \"label\": \"YTD\", \"step\": \"year\", \"stepmode\": \"todate\"}, {\"count\": 1, \"label\": \"1y\", \"step\": \"year\", \"stepmode\": \"backward\"}, {\"step\": \"all\"}]}, \"showgrid\": true, \"type\": \"date\", \"zeroline\": false}, \"yaxis\": {\"autorange\": false, \"range\": [-1, 21], \"showgrid\": true, \"ticktext\": [\"Presentation and approval of the project to sponsors\", \"Hire of personnel\", \"Hire and Set up equipment and communication plan\", \"Collection of pictures\", \"Conduct survey\", \"Build GAN model architectures\", \"Perform data cleaning and format all pictures\", \"Train models and modify parameters\", \"Test the models with new pictures\", \"Develop a cloud base application for model deployment\", \"Evaluate performance and output quality\", \"Perform final adjustment of the models\", \"Perform final testing of generation of pictures\", \"Conduct a small survey about quality perception\", \"Choose a model for deployment\", \"Integrate and deploy model into cloud application\", \"Test Cloud application\", \"Perform bug fixing\", \"Present application to sponsor\", \"Deploy solution into social media\"], \"tickvals\": [0, 1, 2, 3, 4, 5, 6, 7, 8, 9, 10, 11, 12, 13, 14, 15, 16, 17, 18, 19], \"zeroline\": false}},\n",
              "                        {\"responsive\": true}\n",
              "                    ).then(function(){\n",
              "                            \n",
              "var gd = document.getElementById('bbe34411-5e63-4dbc-b254-a05c42ffa397');\n",
              "var x = new MutationObserver(function (mutations, observer) {{\n",
              "        var display = window.getComputedStyle(gd).display;\n",
              "        if (!display || display === 'none') {{\n",
              "            console.log([gd, 'removed!']);\n",
              "            Plotly.purge(gd);\n",
              "            observer.disconnect();\n",
              "        }}\n",
              "}});\n",
              "\n",
              "// Listen for the removal of the full notebook cells\n",
              "var notebookContainer = gd.closest('#notebook-container');\n",
              "if (notebookContainer) {{\n",
              "    x.observe(notebookContainer, {childList: true});\n",
              "}}\n",
              "\n",
              "// Listen for the clearing of the current output cell\n",
              "var outputEl = gd.closest('.output');\n",
              "if (outputEl) {{\n",
              "    x.observe(outputEl, {childList: true});\n",
              "}}\n",
              "\n",
              "                        })\n",
              "                };\n",
              "                \n",
              "            </script>\n",
              "        </div>\n",
              "</body>\n",
              "</html>"
            ]
          },
          "metadata": {
            "tags": []
          }
        }
      ]
    },
    {
      "cell_type": "markdown",
      "metadata": {
        "id": "rUUzzf9WTWkI",
        "colab_type": "text"
      },
      "source": [
        "### III.V Expected Outcome"
      ]
    },
    {
      "cell_type": "markdown",
      "metadata": {
        "id": "4qz3IJ9V9d7j",
        "colab_type": "text"
      },
      "source": [
        "<p align=\"justify\">If successful, the implementation and deployment of this algorithm on the Australian population will create the greatest impact of young generations ever seen so far, by speeding up the dropping smoking rates in the country. By using the power of social media, the algorithm can be spread out on the population allowing people to see a generation of a self-image, incorporating the effects of cigarette smoking on their skin and physical appearance. This approach is believed to support the discouraging of cigarette consumption in younger generations, because the population will be able to observe, in a realistic way, what they would look like in the future if they smoke, and therefore make them think about it before consuming tobacco. \n",
        "\n",
        "<br><p align=\"justify\">Hence, in conjunction with the existing laws, such as high taxes, marketing campaigns and warning labels on cigarette packages, this approach will help decreasing tobacco consumption and therefore the cost of smoking related issues on the Australian health system. Additionally, other related costs such as control of bush fires will have a positive impact by this model, and the destruction of ecosystems created by cigarettes thrown to bushes will be diminished. Last but not least, many potential lives will be saved if the algorithm achieves the impact it intends to.  By investing in this project, the Australian Government will be recognized as a leader in the race of eliminating tobacco related deaths as well bush fires associated with the consumption of cigarettes. For the community, this project will made young Australians aware of the health-related issues that tobacco consumption generates, by showing them the impact of tobacco on skin and appearance of the face, directly on their own faces, making them more conscious about consumption decisions.  \n",
        "\n",
        "<br><p align=\"justify\">On the other hand, the economic benefit of this project is represented by the reduction of the cost to the Australian Health System. As stated previously, the cost is estimated to be $$320 million dollars a year, whereas the cost of this project is estimated to be $1.0 million plus the large-scale deployment and advertising, which is estimated to grow the cost up to $10 million. If the project can impact the consumption of cigarettes in such a way that it can achieve a cost reduction by 10%  in the next 3 years which is $32 million a year, the economic benefit is then estimated to be $17 million dollars a year, in savings on health issues; plus all the lives saved from smoking related health problems. "
      ]
    },
    {
      "cell_type": "markdown",
      "metadata": {
        "id": "gH5F6EUwTe4L",
        "colab_type": "text"
      },
      "source": [
        "## IV. Budget"
      ]
    },
    {
      "cell_type": "markdown",
      "metadata": {
        "id": "4XcVATayZ3Jb",
        "colab_type": "text"
      },
      "source": [
        "The following breakdown, correspond to the budget propposed for the development and execution of this data analytics project:"
      ]
    },
    {
      "cell_type": "code",
      "metadata": {
        "id": "H3wrdI7fcNc1",
        "colab_type": "code",
        "colab": {
          "base_uri": "https://localhost:8080/",
          "height": 545
        },
        "cellView": "form",
        "outputId": "cda61c6d-20ae-4a2d-a78b-9b5e8da01b58"
      },
      "source": [
        "#@title Budget estimated for this project\n",
        "\n",
        "import pandas as pd\n",
        "import io\n",
        "\n",
        "from google.colab import files\n",
        "uploaded = files.upload()\n",
        "\n",
        "budget = pd.read_csv(io.StringIO(uploaded['Budget.csv'].decode('utf-8')))\n",
        "\n",
        "\n",
        "pd.set_option('display.max_columns', None)  \n",
        "pd.set_option('display.max_rows', None)  \n",
        "pd.set_option('display.max_colwidth', -1)  \n",
        "\n",
        "budget"
      ],
      "execution_count": 50,
      "outputs": [
        {
          "output_type": "execute_result",
          "data": {
            "text/html": [
              "<div>\n",
              "<style scoped>\n",
              "    .dataframe tbody tr th:only-of-type {\n",
              "        vertical-align: middle;\n",
              "    }\n",
              "\n",
              "    .dataframe tbody tr th {\n",
              "        vertical-align: top;\n",
              "    }\n",
              "\n",
              "    .dataframe thead th {\n",
              "        text-align: right;\n",
              "    }\n",
              "</style>\n",
              "<table border=\"1\" class=\"dataframe\">\n",
              "  <thead>\n",
              "    <tr style=\"text-align: right;\">\n",
              "      <th></th>\n",
              "      <th>Suggested Component</th>\n",
              "      <th>$AD Thousands</th>\n",
              "    </tr>\n",
              "  </thead>\n",
              "  <tbody>\n",
              "    <tr>\n",
              "      <th>0</th>\n",
              "      <td>2 data scientist (1 year contract $180.000)</td>\n",
              "      <td>$360.00</td>\n",
              "    </tr>\n",
              "    <tr>\n",
              "      <th>1</th>\n",
              "      <td>1 Project manager (1 year contract)</td>\n",
              "      <td>$140.00</td>\n",
              "    </tr>\n",
              "    <tr>\n",
              "      <th>2</th>\n",
              "      <td>1 photographer (6 month outsourced contract, including equiptment)</td>\n",
              "      <td>$70.00</td>\n",
              "    </tr>\n",
              "    <tr>\n",
              "      <th>3</th>\n",
              "      <td>1 photographer assistant (6 months outsourced contract)</td>\n",
              "      <td>$24.00</td>\n",
              "    </tr>\n",
              "    <tr>\n",
              "      <th>4</th>\n",
              "      <td>1 Lawyer (3 months outsourced contract)</td>\n",
              "      <td>$20.00</td>\n",
              "    </tr>\n",
              "    <tr>\n",
              "      <th>5</th>\n",
              "      <td>1 research assistant (1 year contract)</td>\n",
              "      <td>$70.00</td>\n",
              "    </tr>\n",
              "    <tr>\n",
              "      <th>6</th>\n",
              "      <td>1 developer (4 months contract outsorced)</td>\n",
              "      <td>$60.00</td>\n",
              "    </tr>\n",
              "    <tr>\n",
              "      <th>7</th>\n",
              "      <td>1 Dermatologist (1 months contract)</td>\n",
              "      <td>$20.00</td>\n",
              "    </tr>\n",
              "    <tr>\n",
              "      <th>8</th>\n",
              "      <td>5 Macbook pros 13' ($2,699 each)</td>\n",
              "      <td>$13.50</td>\n",
              "    </tr>\n",
              "    <tr>\n",
              "      <th>9</th>\n",
              "      <td>100 TB Data storage on Google cloud Nearline storage ($0.010 per GB)</td>\n",
              "      <td>$1.05</td>\n",
              "    </tr>\n",
              "    <tr>\n",
              "      <th>10</th>\n",
              "      <td>Googles computing engine, 8 GPUs with NVIDIA TESLA P100 ($1.654 AUS per GPU per year)</td>\n",
              "      <td>$13.20</td>\n",
              "    </tr>\n",
              "    <tr>\n",
              "      <th>11</th>\n",
              "      <td>Google Cloud build machine type n1-highcpu-32 $0.095 per minute and other services</td>\n",
              "      <td>$65.40</td>\n",
              "    </tr>\n",
              "    <tr>\n",
              "      <th>12</th>\n",
              "      <td>Flights tickets for 1 scientist and assistant and photographer and assistant to 5 major cities</td>\n",
              "      <td>$7.50</td>\n",
              "    </tr>\n",
              "    <tr>\n",
              "      <th>13</th>\n",
              "      <td>Accomodation for 4 in 5 major cities and inner city travel expenses</td>\n",
              "      <td>$42.00</td>\n",
              "    </tr>\n",
              "    <tr>\n",
              "      <th>14</th>\n",
              "      <td>Contingency budget</td>\n",
              "      <td>$100.00</td>\n",
              "    </tr>\n",
              "    <tr>\n",
              "      <th>15</th>\n",
              "      <td>Total</td>\n",
              "      <td>$1,006.65</td>\n",
              "    </tr>\n",
              "  </tbody>\n",
              "</table>\n",
              "</div>"
            ],
            "text/plain": [
              "                                                                             Suggested Component    \\\n",
              "0   2 data scientist (1 year contract $180.000)                                                      \n",
              "1   1 Project manager (1 year contract)                                                              \n",
              "2   1 photographer (6 month outsourced contract, including equiptment)                               \n",
              "3   1 photographer assistant (6 months outsourced contract)                                          \n",
              "4   1 Lawyer (3 months outsourced contract)                                                          \n",
              "5   1 research assistant (1 year contract)                                                           \n",
              "6   1 developer (4 months contract outsorced)                                                        \n",
              "7   1 Dermatologist (1 months contract)                                                              \n",
              "8   5 Macbook pros 13' ($2,699 each)                                                                 \n",
              "9   100 TB Data storage on Google cloud Nearline storage ($0.010 per GB)                             \n",
              "10  Googles computing engine, 8 GPUs with NVIDIA TESLA P100 ($1.654 AUS per GPU per year)            \n",
              "11  Google Cloud build machine type n1-highcpu-32 $0.095 per minute and other services               \n",
              "12  Flights tickets for 1 scientist and assistant and photographer and assistant to 5 major cities   \n",
              "13  Accomodation for 4 in 5 major cities and inner city travel expenses                              \n",
              "14  Contingency budget                                                                               \n",
              "15  Total                                                                                            \n",
              "\n",
              "   $AD Thousands   \n",
              "0    $360.00       \n",
              "1    $140.00       \n",
              "2    $70.00        \n",
              "3    $24.00        \n",
              "4    $20.00        \n",
              "5    $70.00        \n",
              "6    $60.00        \n",
              "7    $20.00        \n",
              "8    $13.50        \n",
              "9    $1.05         \n",
              "10   $13.20        \n",
              "11   $65.40        \n",
              "12   $7.50         \n",
              "13   $42.00        \n",
              "14   $100.00       \n",
              "15   $1,006.65     "
            ]
          },
          "metadata": {
            "tags": []
          },
          "execution_count": 50
        }
      ]
    },
    {
      "cell_type": "markdown",
      "metadata": {
        "id": "jo0yIYjkTiTz",
        "colab_type": "text"
      },
      "source": [
        "## V. Personnel required.\n",
        "\n"
      ]
    },
    {
      "cell_type": "markdown",
      "metadata": {
        "id": "w8xV0jOIJ_5k",
        "colab_type": "text"
      },
      "source": [
        "For the execution of the project, it is required the following team members:\n",
        "\n",
        "><br><p align=\"justify\">1 Project Manager: The project manager will be responsible for keeping in track the execution of the project, meet the target dates, keep the project on budget and on schedule, and serve as the communication channel of the stakeholders and sponsors.\n",
        "\n",
        "><br><p align=\"justify\">2 Data scientists: responsible for the architecture building of the machine learning algorithm, optimization strategies of parameters in the models, as well as setting up the requirements for the training set construction and survey. In addition, they are also responsible for evaluation and testing of the models, applying changes, measure efficiency of generators and quality of the outputs. \n",
        "\n",
        "><br><p align=\"justify\">1 photographer: This person will be in charge of photographing the people that accepts being part of the study, to ensure that all pictures meet the requirements for the purpose of the project, such as size, lighting, distance to the camera, position, etc.\n",
        "\n",
        "><br><p align=\"justify\">1 photographer assistant: this person will be in charge of assisting the photographer with the lighting and other requirements, along with the research assistant they will classify the images according to information collected in the survey.\n",
        "\n",
        "><br><p align=\"justify\">1 Research assistant: This person will be responsible for conducting the surveys before people are photographed, will define the classification of pictures according to the set parameters by the data scientists. Afterwards, will support the data scientists with administrative and reporting tasks.\n",
        "\n",
        "><br><p align=\"justify\">1 developer: Will be in charge of developing a cloud-based application for deployment of the model in social media. \n",
        "\n",
        "><br><p align=\"justify\">1 Dermatologist: will be outsourced and will support the data scientist with the architecture and construction of the networks.\n"
      ]
    },
    {
      "cell_type": "markdown",
      "metadata": {
        "id": "bCV6dTVfTug-",
        "colab_type": "text"
      },
      "source": [
        "## VI. Video explenation of the project"
      ]
    },
    {
      "cell_type": "markdown",
      "metadata": {
        "id": "2J1-lBCDBAu7",
        "colab_type": "text"
      },
      "source": [
        "To get an overview of this project, click on the link below to watch a video\n",
        "\n",
        "[link text](https://)"
      ]
    },
    {
      "cell_type": "code",
      "metadata": {
        "id": "lpiQLNveDRDG",
        "colab_type": "code",
        "colab": {
          "base_uri": "https://localhost:8080/",
          "height": 421
        },
        "cellView": "form",
        "outputId": "549fbc9e-ac03-400c-a600-fd05cc80571d"
      },
      "source": [
        "#@title Video Pitch\n",
        "from IPython.display import YouTubeVideo\n",
        "YouTubeVideo('9JpdAg6uMXs', width=600, height=400)"
      ],
      "execution_count": 35,
      "outputs": [
        {
          "output_type": "execute_result",
          "data": {
            "text/html": [
              "\n",
              "        <iframe\n",
              "            width=\"600\"\n",
              "            height=\"400\"\n",
              "            src=\"https://www.youtube.com/embed/9JpdAg6uMXs\"\n",
              "            frameborder=\"0\"\n",
              "            allowfullscreen\n",
              "        ></iframe>\n",
              "        "
            ],
            "text/plain": [
              "<IPython.lib.display.YouTubeVideo at 0x7f1fcd407828>"
            ],
            "image/jpeg": "[encoded data removed]"
          },
          "metadata": {
            "tags": []
          },
          "execution_count": 35
        }
      ]
    },
    {
      "cell_type": "markdown",
      "metadata": {
        "id": "FlM-tBlkTzsB",
        "colab_type": "text"
      },
      "source": [
        "## VII. References"
      ]
    },
    {
      "cell_type": "markdown",
      "metadata": {
        "id": "idb5H2wFAZYI",
        "colab_type": "text"
      },
      "source": [
        "Australia's health 2018 2018, Australian Institute of Health and Welfare, Canberra, viewed 06-10-2019.\n",
        "Greenhalgh, E. & Winstanley, M. 2019, 'Prevalence of \n",
        "smoking—teenagers', Tobacco in Australia: Facts and issues., Melbourne.\n",
        "\n",
        "<br>Heber, A. 2014, 'An Australian Senator Has Just Thanked Smokers For Their $8 Billion 'Staggering Generosity' To The Economy', Business Insider Australia.\n",
        "\n",
        "<br>Jia, L., Song, Y. & Zhang, Y. 2018, 'Face Aging with Improved Invertible Conditional GANs', pp. 1396-401.\n",
        "\n",
        "<br>Pantraki, E., Kotropoulos, C. & Lanitis, A. 2019, 'Leveraging Image-to-image Translation Generative Adversarial Networks for Face Aging', pp. 8370-4.\n",
        "\n",
        "<br>Poulsen, J. 2018, 'Cancer Council calls for workplaces to ban smoking as economic cost revealed', The Courier-Mail.\n",
        "\n",
        "<br>'Smoking; Graphic warning labels on cigarette packages reduce smoking rates' 2013, Food & Drug Law Weekly, 12/13/\n",
        "2013 Dec 13, p. 95.\n",
        "\n",
        "<br>Thengane, V.G., Gawande, M.B., Dudhane, A.A. & Gonde, A.B. 2018, 'Cycle Face Aging Generative Adversarial Networks', pp. 125-9.\n",
        "\n",
        "<br>Wang, C., Liu, H., Pei, S., Liu, K. & Liu, T. 2019, 'Face Aging on Realistic Photos by Generative Adversarial Networks', pp. 1-5.\n",
        "\n",
        "<br>Xu, Q., Wu, Z., Yang, Y. & Zhang, L. 2017, 'The difference learning of hidden layer between autoencoder and variational autoencoder', pp. 4801-4.\n",
        "\n",
        "\n",
        "\n",
        "\n",
        "\n"
      ]
    }
  ]
}